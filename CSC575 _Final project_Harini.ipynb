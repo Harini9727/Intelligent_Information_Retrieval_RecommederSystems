{
 "cells": [
  {
   "attachments": {},
   "cell_type": "markdown",
   "id": "e07b8a4a-c2b4-403f-b835-da602afd8fa3",
   "metadata": {},
   "source": [
    "## CSC575 FINAL PROJECT\n",
    "### Pisati Harini Reddy\n"
   ]
  },
  {
   "cell_type": "code",
   "execution_count": 1,
   "id": "cc82916d",
   "metadata": {},
   "outputs": [],
   "source": [
    "import numpy as np\n",
    "import pandas as pd\n",
    "import matplotlib.pyplot as plt"
   ]
  },
  {
   "attachments": {},
   "cell_type": "markdown",
   "id": "3820b661",
   "metadata": {},
   "source": [
    "# TASK 1"
   ]
  },
  {
   "cell_type": "code",
   "execution_count": 2,
   "id": "ab91b833",
   "metadata": {
    "scrolled": true
   },
   "outputs": [
    {
     "data": {
      "text/plain": [
       "(   Unnamed: 0             business_id                      name  \\\n",
       " 0           0  Pns2l4eNsfO8kk83dixA6A  Abby Rappoport, LAC, CMQ   \n",
       " 1           1  mpf3x-BjTdTEA3yCZrAYPw             The UPS Store   \n",
       " 2           2  tUFrWirKiKi_TAnsVWINQQ                    Target   \n",
       " 3           3  MTSW4McQd7CbVtyjqoe9mw        St Honore Pastries   \n",
       " 4           4  mWMc6_wTdE0EUBKIGXDVfA  Perkiomen Valley Brewery   \n",
       " \n",
       "                            address           city state postal_code  \\\n",
       " 0           1616 Chapala St, Ste 2  Santa Barbara    CA       93101   \n",
       " 1  87 Grasso Plaza Shopping Center         Affton    MO       63123   \n",
       " 2             5255 E Broadway Blvd         Tucson    AZ       85711   \n",
       " 3                      935 Race St   Philadelphia    PA       19107   \n",
       " 4                    101 Walnut St     Green Lane    PA       18054   \n",
       " \n",
       "     latitude   longitude  stars  review_count  is_open  \\\n",
       " 0  34.426679 -119.711197    5.0             7        0   \n",
       " 1  38.551126  -90.335695    3.0            15        1   \n",
       " 2  32.223236 -110.880452    3.5            22        0   \n",
       " 3  39.955505  -75.155564    4.0            80        1   \n",
       " 4  40.338183  -75.471659    4.5            13        1   \n",
       " \n",
       "                                           attributes  \\\n",
       " 0                      {'ByAppointmentOnly': 'True'}   \n",
       " 1             {'BusinessAcceptsCreditCards': 'True'}   \n",
       " 2  {'BikeParking': 'True', 'BusinessAcceptsCredit...   \n",
       " 3  {'RestaurantsDelivery': 'False', 'OutdoorSeati...   \n",
       " 4  {'BusinessAcceptsCreditCards': 'True', 'Wheelc...   \n",
       " \n",
       "                                           categories  \\\n",
       " 0  Doctors, Traditional Chinese Medicine, Naturop...   \n",
       " 1  Shipping Centers, Local Services, Notaries, Ma...   \n",
       " 2  Department Stores, Shopping, Fashion, Home & G...   \n",
       " 3  Restaurants, Food, Bubble Tea, Coffee & Tea, B...   \n",
       " 4                          Brewpubs, Breweries, Food   \n",
       " \n",
       "                                                hours  \n",
       " 0                                                NaN  \n",
       " 1  {'Monday': '0:0-0:0', 'Tuesday': '8:0-18:30', ...  \n",
       " 2  {'Monday': '8:0-22:0', 'Tuesday': '8:0-22:0', ...  \n",
       " 3  {'Monday': '7:0-20:0', 'Tuesday': '7:0-20:0', ...  \n",
       " 4  {'Wednesday': '14:0-22:0', 'Thursday': '16:0-2...  ,\n",
       " Index(['Unnamed: 0', 'business_id', 'name', 'address', 'city', 'state',\n",
       "        'postal_code', 'latitude', 'longitude', 'stars', 'review_count',\n",
       "        'is_open', 'attributes', 'categories', 'hours'],\n",
       "       dtype='object'))"
      ]
     },
     "execution_count": 2,
     "metadata": {},
     "output_type": "execute_result"
    }
   ],
   "source": [
    "import pandas as pd\n",
    "\n",
    "businesses_df = pd.read_csv('businesses.csv', sep='\\t', encoding='ISO-8859-1')\n",
    "\n",
    "businesses_df.head(), businesses_df.columns\n"
   ]
  },
  {
   "cell_type": "code",
   "execution_count": 3,
   "id": "478d69c6",
   "metadata": {},
   "outputs": [],
   "source": [
    "import pandas as pd\n",
    "import numpy as np\n",
    "from geopy.distance import geodesic\n",
    "\n",
    "def calculate_distance(lat1, long1, lat2, long2):\n",
    "    return geodesic((lat1, long1), (lat2, long2)).km\n"
   ]
  },
  {
   "cell_type": "code",
   "execution_count": 4,
   "id": "03646bae",
   "metadata": {},
   "outputs": [
    {
     "name": "stdout",
     "output_type": "stream",
     "text": [
      "['AMBLER', 'ARDMORE', 'AVON', 'Abington', 'Abington Township', 'Affton', 'Afton', 'Aldan', 'Algiers', 'Aliso Viejo', 'Almonesson', 'Alton', 'Ambler', 'Andalusia', 'Antioch', 'Apollo Beach', 'Arabi', 'Arden', 'Ardmore', 'Arizona', 'Arnold', 'Arrington', 'Ashland', 'Ashland City', 'Aston', 'Atco', 'Audubon', 'Audubon ', 'Austin', 'Avon', 'Avondale', 'BRANDON', 'Bala Cynwyd', 'Ballwin', 'Balm', 'Bargersville', 'Barnhart', 'Barrington', 'Bayonet Point', 'Bear', 'Beaumont', 'Beech Grove', 'Beech Grove,', 'Bellair', 'Belle Chase', 'Belle Chasse', 'Belle Meade', 'Belleair', 'Belleair Beach', 'Belleair Blf', 'Belleair Bluffs', 'Belleair Blufs', 'Belleville', 'Bellevue', 'Bellmawr', 'Bellville', 'Belmont Hills', 'Bensalem', 'Bensalem Township', 'Berkeley', 'Berlin', 'Berlin Township', 'Berry Hill', 'Berwyn', 'Bethalto', 'Bethel', 'Bethel Township', 'Beverly', 'Birchrunville', 'Black Jack', 'Blackwood', 'Blue Bell', 'Blvd', 'Boise', 'Boise ', 'Boise (Meridian)', 'Boise City', 'Boone', 'Boothwyn', 'Bordentown', 'Bordentown Township', 'Bosie', 'Boulevard', 'Boyertown', 'Bradenton', 'Bradenton Beach', 'Brandon', 'Breckenridge Hills', 'Brentwood', 'Brentwood - Cool Springs', 'Bridge City', 'Bridgeport', 'Bridgeton', 'Bridgeton ', 'Bristol', 'Bristol Twp', 'Brookhaven', 'Brooklawn', 'Brooklyn', 'Brooksville', 'Broomall', 'Brownsburg', 'Bryn Athyn', 'Bryn Mawr', 'Buckingham', 'Buckingham Township', 'Bucks', 'Bucks County', 'Bucktown', 'Burlington', 'Burlington Township', 'Bywater', 'CLEARWATER', 'CLEARWATER BEACH', 'COLMAR', 'CREVE COEUR', 'Cahokia', 'Camby', 'Camden', 'Cane Ridge', 'Carmel', \"Carney's Point\", 'Carneys Point', 'Carpinteria', 'Carrollwood', 'Carson City', 'Carversville', 'Casa Adobes', 'Casas Adobes', 'Caseyville', 'Castleton', 'Catalina', 'Catalina Foothills', 'Cedar Brook', 'Cedarbrook', 'Cedars', 'Center City Philadelphia', 'Center Square', 'Central Tampa', 'Centreville', 'Cerritos', 'Chadds Ford', 'Chalemette', 'Chalfont', 'Chalmette', 'Charlack', 'Cheltenham', 'Cheltenham Township', 'Cherry Hil', 'Cherry Hill', 'Cherry Hill,', 'Chesilhurst', 'Chester', 'Chester Heights', 'Chester Springs', 'Chester Township', 'Chesterbrook', 'Chesterfield', 'Chestnut Hill', 'Chicago', 'Christiana', 'Churchville', 'Cinnaminson', 'Citrus Park', 'Claerwater', 'Clarksboro', 'Claymont', 'Clayton', 'ClearWater', 'Clearwater', 'Clearwater Beach', 'Clearwater,', 'Clementon', 'Clermont', 'Clifton Heights', 'Coatesville', 'Cold Springs', 'College Place', 'Collegeville', 'Collingdale', 'Collingswood', 'Collinsville', 'Colmar', 'Columbia', 'Columbus', 'Concord Township', 'Concordville', 'Conshohocken', 'Conshohoeken', 'Cornwells Heights', 'Cornwells Hts', 'Corona de Tucson', 'Cortaro', 'Cottage Hills', 'Covington', 'Crestwood', 'Creve Coeur', 'Creve Couer', 'Crosswicks', 'Croydon', 'Crum Lynne', 'Crystal Beach', 'Crystal Springs', 'Cumberland', 'Cynwyd', 'DONELSON', 'DUNEDIN', 'Dade City', 'Danboro', 'Danville', 'Darby', 'Delanco', 'Delaware County', 'Delran', 'Delran Twp', 'Delray Beach', 'Denver', 'Deptford', 'Deptford Township', 'Deptford Twp', 'Des Peres', 'Devon', 'Devon-Berwyn', 'Donelson', 'Douglassville', 'Dover', 'Downingtown', 'Downingtown,', 'Downtown', 'Downtown Indianapolis', 'Doylestown', 'Dresher', 'Drexel', 'Drexel Heights', 'Drexel Hil', 'Drexel Hill', 'Dublin', 'Dumont', 'Dunedin', 'Dunedin ', 'Dunnellon', 'Dupo', 'E Saint Louis', 'E. Norristown', 'Eagle', 'Eagle,', 'Eagleville', 'Earlington', 'Earth City', 'East Alton', 'East Edmonton', 'East Greenville', 'East Lake', 'East Lansdowne', 'East Nashville', 'East Norristown', 'East Norriton', 'East Saint Louis', 'East St Louis', 'East St. Louis', 'East Tampa', 'Eastampton', 'Eastampton Township', 'Eaux Claires', 'Echelon', 'EdMonton', 'Eddington', 'Eddystone', 'Edgemont', 'Edgemoor', 'Edgewater Park', 'Edgmont', 'Edmonton', 'Edmundson', 'Edwardsville', 'Elk Township', 'Elkins Park', 'Ellisville', 'Elmer', 'Elmwood', 'Elsmere', 'Elverson', 'Enoch', 'Erdenheim', 'Erdenheim Pa', 'Erial', 'Essington', 'Evesham', 'Evesham Township', 'Evshm Twp', 'Ewing', 'Ewing Township', 'Exton', 'FOLSOM', 'Fairless', 'Fairless Hills', 'Fairmont City', 'Fairmount Park', 'Fairview', 'Fairview Heights', 'Fairview Hts', 'Fairview Hts.', 'Fairview Village', 'Falls', 'Feasterville', 'Feasterville Trev', 'Feasterville Trevose', 'Feasterville-Trevose', 'Feasterville-Trevose, PA', 'Feasterville-trevose', 'Feastville', 'Fenton', 'Ferguson', 'Fernley', 'Festerville', 'Fieldsboro', 'Fishers', 'Flanders', 'Florence', 'Florence Township', 'Florissant', 'Flourtown', 'Folcroft', 'Folsom', 'Forest Grove', 'Forest Hills', 'Fort Washington', 'Fortville', 'Fountainville', 'Fox Street', 'Franconia', 'Franklin', 'Franklin ', 'Franklinville', 'Frazer', 'Freeburg', 'Freehold', 'French Quarter', 'Frontenac', 'Furlong', 'GARDEN CITY', 'Gallatin', 'Garden City', 'Gardenville', 'Garnet Valley', 'Gentilly', 'Gibbsboro', 'Gibbstown', 'Gibsonton', 'Gilbertsville', 'Gladwyne', 'Glassboro', 'Glen Carbon', 'Glen Mills', 'Glendale', 'Glendora', 'Glenmoore', 'Glenmore', 'Glenn Mills', 'Glenoldan', 'Glenolden', 'Glenside', 'Gloucester City', 'Gloucester Township', 'Godfrey', 'Goleta', 'Goodletsville', 'Goodlettsville', 'Gradyville', 'Granite City', 'Greater Carrollwood', 'Greater Northdale', 'Green Hills', 'Green Lane', 'Green Park', 'Green Valley', 'Greenbrier', 'Greenfield', 'Greenville', 'Greenwood', 'Grenloch', 'Gretna', 'Gulfport', 'Gulph Mills', 'Gwynedd', 'Gwynedd Valley', 'HUdson', 'Had Twp', 'Hadden', 'Haddon', 'Haddon Heights', 'Haddon Township', 'Haddon Twp', 'Haddonfield', 'Hainesport', 'Hamiltion', 'Hamilton', 'Hamilton Township', 'Hammonton', 'Hampton', 'Hancock', 'Harahan', 'Harleysville', 'Harrison Township', 'Hartford', 'Hartsville', 'Harvey', 'Hatboro', 'Hatfield', 'Haverford', 'Havertown', 'Havertown, PA', 'Hazelwood', 'Hendersonville', 'Hermitage', 'Hernando Beach', 'Hi-Nella', 'High Ridge', 'Hillsborough', 'Hillsborough County', 'Hilltop', 'Hilltown', 'Hockessin', 'Holicong', 'Holiday', 'Holland', 'Holland Southampton', 'Holmes', 'Honey Brook', 'Horseshoe Bend', 'Horsham', 'Houston', 'Hudson', 'Hulmeville', 'Huntingdon Valley', 'Huntingdon Valley PA', 'INDIANAPOLIS', 'Imperial', 'Indian Rocks Beach', 'Indian Rocks Beach. ', 'Indian Shores', 'Indianapolis', 'Indianapolis ', 'Indianpolis', 'Inglewood', 'Isla Vista', 'Ivyland', 'Jamison', 'Jefferson', 'Jefferson Parish', 'Jeffersonville', 'Jenkintown', 'Jennings', 'Jobstown', 'Joelton', 'KIRKWOOD', 'Kalispell', 'Kenner', 'Kenneth', 'Kenneth City', 'Kennett Square', 'Kimberton', 'Kimmiswick', 'Kimmswick', 'King Of Prussia', 'King of Prussi', 'King of Prussia', 'Kings Beach', 'Kingston Springs', 'Kirkwood', 'Knoxville', 'Kulpsville', 'Kuna', 'LANSDALE', 'LARGO', 'LITHIA', 'LOWER MERION', 'LOWER PROVIDENCE', 'La Vergne', 'Ladue', 'Lafayette Hill', 'Lahaska', 'Lake Saint Louis', 'Lakeland', 'Lambertville', 'Land O Lakes', \"Land O' Lakes\", \"Land O'Lakes\", 'Land o Lakes', 'Land o lakes', 'Land-O-Lakes', 'Landsdale', 'Langhorne', 'Lansdale', 'Lansdale ', 'Lansdowne', 'Largo', 'Largo (Walsingham)', 'Laurel Springs', 'Lavergne', 'Lawnside', 'Lawrence', 'Lawrence Township', 'Lawrenceville', 'Lebanon', 'Lederach', 'Lemay', 'Lemay Ferry', 'Lenni', 'Lester', 'Levittown', 'Lima', 'Limerick', 'Lindenwold', 'Line Lexington', 'Linfield', 'Linwood', 'Lionville', 'Lithia', 'Liverpool', 'Logan Township', 'Los Angeles', 'Los Ranchitos', 'Lower Gwynedd', 'Lower Gwynedd Township', 'Lower Merion', 'Lula Lula', 'Luling', 'Lumberton', 'Lutz', 'Lutz fl', 'MADISON', 'MEDIA', 'MERIDIAN', 'MIDDLE CITY WEST', 'Madeira Beach', 'Madison', 'Magnolia', 'Malaga', 'Malvern', 'Manayunk', 'Manchester', 'Mandeville', 'Mango', 'Mansfield', 'Mantua', 'Mantua Township', 'Maple Glen', 'Maple Shade', 'Maple Shade Township', 'Maplewood', 'Marana', 'Marcus Hook', 'Marlborough', 'Marlton', 'Marrero', 'Marshallton', 'Martinsville', 'Maryland Heights', 'Maryville', 'Maryville ', 'Masaryktown', 'Mascoutah', 'Mc Cordsville', 'McCarran', 'McCordsville', 'Mccordsville', 'Meadowbrook', 'Mechanicsville', 'Medford', 'Medford Lakes', 'Media', 'Mehlville', 'Mehville', 'Melrose Park', 'Mendenhall', 'Meraux', 'Mercerville', 'Merchantville', 'Meridan', 'Meridian', 'Meridian ', 'Merion Park', 'Merion Station', 'Metairie', 'Metarie', 'Meterie', 'Mickleton', 'Millstadt', 'Milmont Park', 'Mission Canyon', 'Mississauga', 'Monroe Township', 'Monroeville', 'Monrovia', 'Mont Clare', 'Montchanin', 'Montecito', 'Montgomery', 'Montgomery Township', 'Montgomeryville', 'Moorestown', 'Moorestown-Lenola', 'Mooresville', 'Morrisville', 'Morton', 'Mount Ephraim', 'Mount Holly', 'Mount Juliet', 'Mount Laurel', 'Mount Laurel Township', 'Mount Lemmon', 'Mount Royal', 'Mt Ephraim', 'Mt Holly', 'Mt Juliet', 'Mt Laurel', 'Mt Laurel Township', 'Mt Laurel Twp, NJ', 'Mt. Airy', 'Mt. Ephraim', 'Mt. Holly', 'Mt. Juliet', 'Mt. Laurel', 'Mt.Juliet', 'Mt.Laurel', 'Mulberry', 'Mullica Hill', 'Murfreesboro', 'N Redington Bch', 'N Redngtn Bch', 'NASHVILLE', 'NASHVILLE AP', 'NEW ORLEANS', 'NEW PORT RICHEY', 'NEW PRT RCHY', 'NEWARK', 'NORRISTOWN', 'NW Edmonton', 'Nampa', 'Narberth', 'Nashville', 'Nashville ', 'Nashville,', 'Nashville-Davidson metropolitan government (balance)', 'National Park', 'Nevada', 'New Berlinville', 'New Britain', 'New Castle', 'New Hope', 'New Jersey', 'New Orlaens', 'New Orleans', 'New Palestine', 'New Port Richey', 'New Prt Rchy', 'New Pt Richey', 'New Washoe City', 'New Whiteland', 'New castle', 'New orleans', 'Newark', 'Newfield', 'Newport', 'Newton Square', 'Newtown', 'Newtown Square', 'Newtown Township', 'Newtown square', 'Nixa', 'Noblesville', 'Nolensville', 'Nolenville', 'Normandy', 'Norristown', 'Norriton', 'Norritown', 'North Coventry', 'North Maple Shade', 'North Marlton', 'North Redington Bch', 'North Redington Beach', 'North Wales', 'Norwood', 'O Fallon', \"O' Fallon\", \"O'Fallon\", \"O'fallon\", 'OFallon', 'Oakford', 'Oaklandon', 'Oaklyn', 'Oaks', 'Oakville', 'Odessa', 'Ofallon', 'Old Hickory', 'Old Strathcona', 'Oldmans', 'Oldmans Township', 'Oldsmar', 'Olivette', 'Oracle', 'Oreland', 'Oro Valley', 'Overland', 'Oxnard', 'Ozona', 'PHILA', 'PHILADELPHIA', 'POTTSTOWN', 'Pagedale', 'Palm Harbor', 'Palm Harbor, FL', 'Palm harbor', 'Palm harbor ', 'Palmetto', 'Palmyra', 'Paoli', 'Parker Ford', 'Parkside', 'Pasadena', 'Pass-a-Grille', 'Pass-a-Grille Beach', 'Paulsboro', 'Pedricktown', 'Peerless Park', 'Pegram', 'Pemberton', 'Penllyn', 'Penn Valley', 'Penndel', 'Pennington', 'Penns Grove', 'Pennsauken', 'Pennsauken Township', 'Pennsaulen', 'Pennsburg', 'Pennsville', 'Pennsville Township', 'Pennsylvania', 'Perkasie', 'Perkiomenville', 'Petersburg', 'Phila', 'Philadelphia', 'Philadelphia PA', 'Philadelphila ', 'Philadephia', 'Phoenixville', 'Phonixville', 'Picture Rocks', 'Pike Creek', 'Pilesgrove', 'Pilgrim Gardens', 'Pilot Sound Area West Portion', 'Pine HIll', 'Pine Hill', 'Pinecrest West Park', 'Pinellas', 'Pinellas Park', 'Pinellas park', 'Pineville', 'Pipersville', 'Pitman', 'Pittsgrove', 'Pittsgrove Township', 'Plainfield', 'Plant City', 'Pleasant Township', 'Pleasant View', 'Plumsteadville', 'Plymouth Meeting', 'Plymouth Township', 'Pontoon Beach', 'Port Hueneme', 'Port Richey', 'Pottsgrove', 'Pottstown', 'Primos', 'Primos-Secane', 'Prospect Park', 'Quakertown', 'Quinton', 'RENO', 'RENO AP', 'RIVERVIEW', 'Radnor', 'Radnor Township', 'Real Goleta', 'Red Hill', 'Redingtn Shor', 'Redingtn Shores', 'Redington Beach', 'Redington Shores', 'Reno', 'Reno ', 'Reno City', 'Reno Nevada', 'Richboro', 'Richmond Heights', 'Richwood', 'Ridley', 'Ridley Park', 'Ridley Township', 'Rillito', 'River Ridge', 'River View', 'Riveridge', 'Riverside', 'Riverton', 'Riverview', 'Rock Hill', 'Rockledge', 'Roebling', 'Rose Valley', 'Rosemont', 'Roseville', 'Rosewood Heights', 'Roslyn', 'Roxana', 'Roxborough', 'Royersford', 'Royersford ', 'Royford', 'Runnemede', 'Rural Hill', 'Rushland', 'Ruskin', 'S Pasadena', 'SAINT LOUIS', 'SAINT LOUIS AP', 'SANTA BARBARA AP', 'SEMINOLE', 'SPARKS', 'SPRINGHILL', 'ST LOUIS', 'ST. Louis', 'ST. PETE BEACH', 'ST. PETERSBURG', 'Safety  Harbor', 'Safety Harbor', 'Sahuarita', 'Saint Albert', 'Saint Ann', 'Saint Bernard', 'Saint Charles', 'Saint Davids', 'Saint John', 'Saint Louis', 'Saint Louis ', 'Saint Pete Beach', 'Saint Peters', 'Saint Petersburg', 'Saint Petersburg Beach', 'Saint Petersburg,', 'Saint Rose', 'Saint louis', 'Saintt Petersburg', 'SaintÃ\\x82Â\\xa0Louis', 'Salem', 'San Anselmo', 'San Antonio', 'Sanatoga', 'Santa Barbara', 'Santa Barbara ', 'Santa Barbara & Ventura Counties', 'Santa Barbara,', 'Santa Clara', 'Santa Rita', 'Santa Ynez', 'Sappington', 'Sarasota', 'Sassamansville', 'Sauget', 'Schwenksville', 'Scott AFB', 'Scott Afb', 'Scott Air Force Base', 'Secane', 'Secane ', 'Seffner', 'Sellersville', 'Seminole', 'Sewell', 'Shade', 'Shady Hills', 'Shamong', 'Sharon Hill', 'Sherwood Park', 'Shiloh', 'Shrewsbury', 'Sicklerville', 'Silverdale', 'Skippack', 'Skippack Village', 'Smithton', 'Smyrna', 'Solebury', 'Somerdale', 'Souderton', 'South Cinnaminson', 'South County', 'South Harrison Township', 'South Lake Tahoe', 'South Pasadena', 'South Roxana', 'South Tampa', 'South Tucson', 'Southampton', 'Southampton ', 'Southampton Township', 'Southeast Edmonton', 'Southeastern', 'Southport', 'Southwest Philadelphia', 'Southwest Tampa', 'Spanish Springs', 'Sparks', 'Sparks ', 'Sparks NV', 'Speedway', 'Spokane', 'Spring City', 'Spring HIll', 'Spring Hill', 'Spring House', 'Springfield', 'Springhill', 'Spruce Grove', 'St  Louis', 'St Albert', 'St Ann', 'St Charles', 'St Louis', 'St Louis County', 'St Louis Downtown', 'St Pete', 'St Pete Beach', 'St Pete beach', 'St Petersberg', 'St Petersburg', 'St Rose', 'St louis', 'St. Albert', 'St. Ann', 'St. Charles', 'St. Davids', 'St. Loius', 'St. Louis', 'St. Pete', 'St. Pete Beach', 'St. Peters', 'St. Petersburg', 'St. Rose', 'St.Ann', 'St.Louis', 'St.Pete Beach', 'St.Petersburg', 'St.Rose', 'St.louis', 'Staint Albert', 'Star', 'Ste C', 'Stead', 'Stowe', 'Strafford', 'Stratford', 'Stroudsburg', 'Sturgeon Couny', 'Summerhaven', 'Summerland', 'Sumneytown', 'Sun City', 'Sun City Center', 'Sun Valley', 'Sunset Hills', 'Swansea', 'Swarthmore', 'Swedesboro', 'Swedesboro ', 'TAMPA', 'TARPON SPRINGS', 'TRENTON', 'TUCSON', 'TWN N CNTRY', 'Tabernacle', 'Talleyville', 'Tampa', 'Tampa - North', 'Tampa - South', 'Tampa Bay', 'Tampa Florida', 'Tampa Palms', 'Tampa Terrace', 'Tampla', 'Tarpon Springs', 'Tarpon springs', 'Telford', 'Temple Terr', 'Temple Terrace', 'Terra Ceia', 'Terrytown', 'Thonosassa', 'Thonotosassa', 'Thorndale', 'Thornton', 'Thorofare', 'Tierra Verde', 'Tinicum', 'Titusville', 'Toughkenamon', 'Town & Country', 'Town & County', \"Town 'n' Country\", 'Town And Country', 'Town N Country', 'Town and Country', 'Town n Country', 'Trainer', 'Trappe', 'Treasure Is', 'Treasure Island', 'Tren', 'Trenton', 'Trevose', 'Trinity', 'Trolley Square', 'Trooper', 'Troy', 'Truckee', 'Tucson', 'Tucson ', 'Tucson, Arizona', 'Tullytown', 'Turnersville', 'Tuscon', 'Tuson', 'Twin Oaks', 'Twn N Cntry', 'Tylersport', 'Unionville', 'University City', 'University Park', 'Upland', 'Upper Chichester', 'Upper Darby', 'Upper Darby PA', 'Upper Gwynedd', 'Upper Merion Township', 'Upper Pittsgrove', 'Upper Southampton', 'Upper Southampton Township', 'VALRICO', 'VC Highlands', 'Vail', 'Valencia', 'Valencia West', 'Valley Forge', 'Valley Park', 'Valrico', 'Ventura', 'Verdi', 'View', 'Villanova', 'Vincentown', 'Vineland', 'Violet', 'Virginia City', 'Virtual', 'Voorhees', 'Voorhees Township', 'W Cherry Hill', 'W.Chester', 'WEST CHESTER', 'Waggaman', 'Wallingford', 'Wanamaker', 'Warminster', 'Warrington', 'Warrington Township', 'Warson Woods', 'Warwick', 'Washington', 'Washington Crossing', 'Washington Park', 'Washington Township', 'Washington Twp', 'Washoe', 'Washoe Valley', 'Waterford Works', 'Waterloo', 'Wayne', 'Wayne/Radnor', 'Webster Groves', 'Webster Grvs', 'Wenonah', 'Wesley Chapel', 'Wesley chapel', 'West  Deptford', 'West Alton', 'West Berlin', 'West Bradford Township', 'West Chester', 'West Chester PA', 'West Conshohocken', 'West Deptford', 'West Deptford Townsh', 'West Edmonton', 'West Hill', 'West Mount Holly', 'West Norriton', 'West Philadelphia', 'West Point', 'West Trenton', 'Westampton', 'Westampton Township', 'Westchase', 'Westfield', 'Westmont', 'Westmont - Haddon Towsship', 'Westtown', 'Westville', 'Westwego', 'White House', 'Whitehouse', 'Whiteland', 'Whites Creek', 'Whitestown', 'Williamstown', 'Willingboro', 'Willingboro Township', 'Willow Grove', 'Wilmington', 'Wilmington ', 'Wilmington Manor', 'Wimauma', 'Winslow', 'Winslow Township', 'Wood River', 'Woodbourne', 'Woodbury', 'Woodbury Heights', 'Woodlyn', 'Woodson Terrace', 'Woodstown', 'Woolwich Township', 'Woolwich Twp', 'Woolwich Twp.', 'Worcester', 'Wrightstown', 'Wyncote', 'Wyndlake Condominium', 'Wyndmoor', 'Wynnewood', 'YARDLEY', 'Yardley', 'Yardley Boro', 'Ybor City', 'Yeadon', 'Yorklyn', 'Zephryhills', 'Zephyrhills', 'Zieglersville', 'Zieglerville', 'Zionsville', 'abington', 'boise', 'chicago', 'clearwater', 'clifton heights', 'elmwood', 'erdenheim', 'franklin', 'frazer', 'horsham', 'indianopolis', 'kop', 'land o lakes', 'langhorne', 'largo', 'lawrence', 'lutz', 'maple shade nj', 'meridian', 'metairie', 'new orleans', 'pennsauken', 'philadelphia', 'phoenixville', 'quakertown', 'reno', 'riverview', 'saint ann', 'saint petersburg', 'santa Barbara', 'sewell', 'sparks', 'tampa', 'telford', 'tucson', 'wilmington', 'wimauma', 'Ã¢Â\\x80Â\\x8bClayton', 'Ã¢Â\\x80Â\\x8bLargo', 'Ã¢Â\\x80Â\\x8bLithia']\n"
     ]
    }
   ],
   "source": [
    "unique_cities = businesses_df['city'].unique()\n",
    "print(sorted(unique_cities))\n"
   ]
  },
  {
   "cell_type": "code",
   "execution_count": 5,
   "id": "d6846a3a",
   "metadata": {},
   "outputs": [
    {
     "name": "stdout",
     "output_type": "stream",
     "text": [
      "Top 5 Restaurants in Philadelphia:\n",
      "                                         name  stars  review_count  \\\n",
      "69859                   Tortilleria San Roman    5.0           219   \n",
      "85917                    Miss Rachel's Pantry    5.0           119   \n",
      "79657                         El Rancho Viejo    5.0           110   \n",
      "25331                       Circles + Squares    5.0           103   \n",
      "5993   Mom Mom's Kitchen and Polish Food Cart    5.0            91   \n",
      "\n",
      "                                              categories  \n",
      "69859  Convenience Stores, Italian, Specialty Food, M...  \n",
      "85917  Arts & Crafts, Food, Shopping, Food Delivery S...  \n",
      "79657                               Restaurants, Mexican  \n",
      "25331                                 Restaurants, Pizza  \n",
      "5993   Food, Polish, Food Trucks, Street Vendors, Res...  \n"
     ]
    }
   ],
   "source": [
    "import pandas as pd\n",
    "\n",
    "# Normalize the 'city' column to lowercase to ensure case-insensitive matching\n",
    "businesses_df['city'] = businesses_df['city'].str.lower()\n",
    "\n",
    "# Query 1 Define a function to display top businesses based on filters\n",
    "def display_top_businesses(df, city, category, top_n=5):\n",
    "    filtered_df = df[(df['city'] == city) & (df['categories'].str.contains(category, case=False, na=False))]\n",
    "    sorted_df = filtered_df.sort_values(by=['stars', 'review_count', 'name'], ascending=[False, False, True]).head(top_n)\n",
    "    print(f\"Top {top_n} {category} in {city.capitalize()}:\")\n",
    "    if not sorted_df.empty:\n",
    "        print(sorted_df[['name', 'stars', 'review_count', 'categories']])\n",
    "    else:\n",
    "        print(f\"No {category} found in {city.capitalize()}.\\n\")\n",
    "\n",
    "# top 5 restaurants in Philadelphia\n",
    "display_top_businesses(businesses_df, 'philadelphia', 'Restaurants')\n",
    "\n"
   ]
  },
  {
   "cell_type": "code",
   "execution_count": 6,
   "id": "b915cdea",
   "metadata": {},
   "outputs": [
    {
     "name": "stdout",
     "output_type": "stream",
     "text": [
      "Best Chinese Restaurants in Philadelphia:\n",
      "                                     name  stars  review_count  \\\n",
      "73935             Rittenhouse Acupuncture    5.0            39   \n",
      "34846                   Renew Acupuncture    5.0            37   \n",
      "41818            Far East Chinese Cuisine    5.0            28   \n",
      "31662  Healing Arts Community Acupuncture    5.0            25   \n",
      "99507     Summit Acupuncture Philadelphia    5.0            24   \n",
      "\n",
      "                                              categories  \n",
      "73935  Acupuncture, Traditional Chinese Medicine, Hea...  \n",
      "34846  Health & Medical, Acupuncture, Massage Therapy...  \n",
      "41818                    Cantonese, Chinese, Restaurants  \n",
      "31662  Acupuncture, Doctors, Nutritionists, Medical C...  \n",
      "99507  Traditional Chinese Medicine, Pain Management,...   \n",
      "\n"
     ]
    }
   ],
   "source": [
    "#2 Best Chinese restaurants in Philadelphia\n",
    "philadelphia_chinese_restaurants = businesses_df[\n",
    "    businesses_df['categories'].str.contains('Chinese', case=False, na=False) & \n",
    "    (businesses_df['city'].str.lower() == 'philadelphia')\n",
    "]\n",
    "top_philadelphia_chinese_restaurants = philadelphia_chinese_restaurants.sort_values(\n",
    "    by=['stars', 'review_count', 'name'], ascending=[False, False, True]\n",
    ").head(5)\n",
    "print(\"Best Chinese Restaurants in Philadelphia:\")\n",
    "print(top_philadelphia_chinese_restaurants[['name', 'stars', 'review_count', 'categories']], '\\n')\n"
   ]
  },
  {
   "cell_type": "code",
   "execution_count": 7,
   "id": "44cd3d24",
   "metadata": {},
   "outputs": [
    {
     "name": "stdout",
     "output_type": "stream",
     "text": [
      "0                        {'ByAppointmentOnly': 'True'}\n",
      "1               {'BusinessAcceptsCreditCards': 'True'}\n",
      "2    {'BikeParking': 'True', 'BusinessAcceptsCredit...\n",
      "3    {'RestaurantsDelivery': 'False', 'OutdoorSeati...\n",
      "4    {'BusinessAcceptsCreditCards': 'True', 'Wheelc...\n",
      "Name: attributes, dtype: object\n"
     ]
    }
   ],
   "source": [
    "print(businesses_df['attributes'].head())\n"
   ]
  },
  {
   "cell_type": "code",
   "execution_count": 8,
   "id": "44dd2e32",
   "metadata": {},
   "outputs": [
    {
     "name": "stdout",
     "output_type": "stream",
     "text": [
      "Pubs in Philadelphia that are Wheelchair Accessible:\n",
      "                            name  stars  review_count  \\\n",
      "94471                  Bar Hygge    4.5           387   \n",
      "53651   Glory Beer Bar & Kitchen    4.5           203   \n",
      "79730  Love City Brewing Company    4.5           162   \n",
      "1106            Chase's Hop Shop    4.5           116   \n",
      "78757     Original 13 Ciderworks    4.5            65   \n",
      "\n",
      "                                              categories  \n",
      "94471  Food, Restaurants, Breweries, Comfort Food, Br...  \n",
      "53651  American (New), Local Flavor, Bars, Restaurant...  \n",
      "79730  Brewpubs, Breweries, Nightlife, Bars, Food, Ba...  \n",
      "1106   Chicken Wings, Nightlife, Bars, Delis, Food, B...  \n",
      "78757  American (Traditional), Food, Restaurants, Bar...   \n",
      "\n"
     ]
    }
   ],
   "source": [
    "import ast\n",
    "\n",
    "# Function to safely evaluate the stringified dictionary\n",
    "def safe_eval(dict_str):\n",
    "    try:\n",
    "        return ast.literal_eval(dict_str)\n",
    "    except ValueError:\n",
    "        return {}  # Return an empty dict if the string cannot be evaluated\n",
    "\n",
    "businesses_df['attributes_dict'] = businesses_df['attributes'].apply(safe_eval)\n",
    "\n",
    "# Filter pubs that are wheelchair accessible\n",
    "philly_pubs_wheelchair_accessible = businesses_df[\n",
    "    businesses_df['categories'].str.contains('Pubs', case=False, na=False) & \n",
    "    (businesses_df['city'].str.lower() == 'philadelphia') &\n",
    "    businesses_df['attributes_dict'].apply(lambda x: x.get('WheelchairAccessible') == 'True')\n",
    "]\n",
    "\n",
    "top_philly_pubs_wheelchair = philly_pubs_wheelchair_accessible.sort_values(\n",
    "    by=['stars', 'review_count', 'name'], ascending=[False, False, True]\n",
    ").head(5)\n",
    "\n",
    "print(\"Pubs in Philadelphia that are Wheelchair Accessible:\")\n",
    "print(top_philly_pubs_wheelchair[['name', 'stars', 'review_count', 'categories']], '\\n')\n"
   ]
  },
  {
   "cell_type": "code",
   "execution_count": 9,
   "id": "7f76e599",
   "metadata": {},
   "outputs": [
    {
     "name": "stdout",
     "output_type": "stream",
     "text": [
      "Business Hours for 'St Honore Pastries' in Philadelphia:\n",
      "{'Tuesday': '17:0-21:30', 'Wednesday': '17:0-1:30', 'Thursday': '17:0-1:30', 'Friday': '17:0-0:30', 'Saturday': '17:0-0:30', 'Sunday': '17:0-21:30'}\n",
      "\n"
     ]
    }
   ],
   "source": [
    "#4 Business Hours for \"St Honore Pastries\" in Philadelphia\n",
    "st_honore_hours = businesses_df[\n",
    "    (businesses_df['name'] == 'DeSandro on Main') & \n",
    "    (businesses_df['city'].str.lower() == 'philadelphia')\n",
    "]['hours'].iloc[0]\n",
    "print(f\"Business Hours for 'St Honore Pastries' in Philadelphia:\\n{st_honore_hours}\\n\")\n",
    "\n"
   ]
  },
  {
   "cell_type": "code",
   "execution_count": 10,
   "id": "0661bdf6",
   "metadata": {},
   "outputs": [
    {
     "name": "stdout",
     "output_type": "stream",
     "text": [
      "Requirement already satisfied: folium in /opt/anaconda3/lib/python3.11/site-packages (0.16.0)\n",
      "Requirement already satisfied: branca>=0.6.0 in /opt/anaconda3/lib/python3.11/site-packages (from folium) (0.7.1)\n",
      "Requirement already satisfied: jinja2>=2.9 in /opt/anaconda3/lib/python3.11/site-packages (from folium) (3.1.3)\n",
      "Requirement already satisfied: numpy in /opt/anaconda3/lib/python3.11/site-packages (from folium) (1.26.4)\n",
      "Requirement already satisfied: requests in /opt/anaconda3/lib/python3.11/site-packages (from folium) (2.31.0)\n",
      "Requirement already satisfied: xyzservices in /opt/anaconda3/lib/python3.11/site-packages (from folium) (2022.9.0)\n",
      "Requirement already satisfied: MarkupSafe>=2.0 in /opt/anaconda3/lib/python3.11/site-packages (from jinja2>=2.9->folium) (2.1.3)\n",
      "Requirement already satisfied: charset-normalizer<4,>=2 in /opt/anaconda3/lib/python3.11/site-packages (from requests->folium) (2.0.4)\n",
      "Requirement already satisfied: idna<4,>=2.5 in /opt/anaconda3/lib/python3.11/site-packages (from requests->folium) (3.4)\n",
      "Requirement already satisfied: urllib3<3,>=1.21.1 in /opt/anaconda3/lib/python3.11/site-packages (from requests->folium) (2.0.7)\n",
      "Requirement already satisfied: certifi>=2017.4.17 in /opt/anaconda3/lib/python3.11/site-packages (from requests->folium) (2024.2.2)\n",
      "5 Pubs Near Philadelphia City:\n",
      "                                 name  distance_to_landmark  \\\n",
      "61650                             Bar              0.283564   \n",
      "15670                  Bank & Bourbon              0.301492   \n",
      "28035                    Harp & Crown              0.326941   \n",
      "55335  Iron Hill Brewery & Restaurant              0.348188   \n",
      "30393                Mission Taqueria              0.349538   \n",
      "\n",
      "                                              categories  \n",
      "61650  Bars, Beer Bar, Pool Halls, Hot Dogs, Restaura...  \n",
      "15670            Restaurants, Gastropubs, American (New)  \n",
      "28035  Active Life, Nightlife, Bars, American (Tradit...  \n",
      "55335  Food, Breweries, Restaurants, American (Tradit...  \n",
      "30393  Tex-Mex, Restaurants, Food, Nightlife, Beer, W...   \n",
      "\n"
     ]
    }
   ],
   "source": [
    "#query 5\n",
    "!pip install folium\n",
    "from geopy.distance import geodesic\n",
    "import folium\n",
    "\n",
    "# Coordinates for Philadelphia City Hall\n",
    "landmark_name = \"Philadelphia City\"\n",
    "landmark_lat, landmark_lon = 39.9524, -75.1636\n",
    "\n",
    "# Calculate distance for each business from the landmark\n",
    "businesses_df['distance_to_landmark'] = businesses_df.apply(\n",
    "    lambda row: geodesic((landmark_lat, landmark_lon), (row['latitude'], row['longitude'])).km, axis=1\n",
    ")\n",
    "\n",
    "# Filter for pubs and sort by distance\n",
    "nearby_pubs = businesses_df[\n",
    "    businesses_df['categories'].str.contains('Pubs', case=False, na=False)\n",
    "].sort_values(by='distance_to_landmark').head(5)\n",
    "print(f\"5 Pubs Near {landmark_name}:\")\n",
    "print(nearby_pubs[['name', 'distance_to_landmark', 'categories']], '\\n')\n",
    "\n",
    "# Plotting on a map with Folium\n",
    "# Create a map centered around the landmark\n",
    "map = folium.Map(location=[landmark_lat, landmark_lon], zoom_start=15)\n",
    "\n",
    "folium.Marker(\n",
    "    [landmark_lat, landmark_lon], popup=landmark_name, tooltip=\"Click for info\",\n",
    "    icon=folium.Icon(color='red')\n",
    ").add_to(map)\n",
    "\n",
    "for index, row in nearby_pubs.iterrows():\n",
    "    folium.Marker(\n",
    "        [row['latitude'], row['longitude']], popup=f\"{row['name']} ({row['distance_to_landmark']:.2f} km)\", tooltip=\"Click for info\",\n",
    "        icon=folium.Icon(color='blue')\n",
    "    ).add_to(map)\n",
    "\n"
   ]
  },
  {
   "cell_type": "code",
   "execution_count": 11,
   "id": "5df33dfe",
   "metadata": {},
   "outputs": [],
   "source": [
    "# Display the map\n",
    "map.save(\"nearby_pubs_map.html\")\n"
   ]
  },
  {
   "attachments": {},
   "cell_type": "markdown",
   "id": "5c35c697",
   "metadata": {},
   "source": [
    "# TASK 2"
   ]
  },
  {
   "cell_type": "code",
   "execution_count": 12,
   "id": "020c0ef2",
   "metadata": {
    "scrolled": true
   },
   "outputs": [
    {
     "name": "stdout",
     "output_type": "stream",
     "text": [
      "Requirement already satisfied: spacy in /opt/anaconda3/lib/python3.11/site-packages (3.7.4)\n",
      "Requirement already satisfied: spacy-legacy<3.1.0,>=3.0.11 in /opt/anaconda3/lib/python3.11/site-packages (from spacy) (3.0.12)\n",
      "Requirement already satisfied: spacy-loggers<2.0.0,>=1.0.0 in /opt/anaconda3/lib/python3.11/site-packages (from spacy) (1.0.5)\n",
      "Requirement already satisfied: murmurhash<1.1.0,>=0.28.0 in /opt/anaconda3/lib/python3.11/site-packages (from spacy) (1.0.10)\n",
      "Requirement already satisfied: cymem<2.1.0,>=2.0.2 in /opt/anaconda3/lib/python3.11/site-packages (from spacy) (2.0.8)\n",
      "Requirement already satisfied: preshed<3.1.0,>=3.0.2 in /opt/anaconda3/lib/python3.11/site-packages (from spacy) (3.0.9)\n",
      "Requirement already satisfied: thinc<8.3.0,>=8.2.2 in /opt/anaconda3/lib/python3.11/site-packages (from spacy) (8.2.3)\n",
      "Requirement already satisfied: wasabi<1.2.0,>=0.9.1 in /opt/anaconda3/lib/python3.11/site-packages (from spacy) (1.1.2)\n",
      "Requirement already satisfied: srsly<3.0.0,>=2.4.3 in /opt/anaconda3/lib/python3.11/site-packages (from spacy) (2.4.8)\n",
      "Requirement already satisfied: catalogue<2.1.0,>=2.0.6 in /opt/anaconda3/lib/python3.11/site-packages (from spacy) (2.0.10)\n",
      "Requirement already satisfied: weasel<0.4.0,>=0.1.0 in /opt/anaconda3/lib/python3.11/site-packages (from spacy) (0.3.4)\n",
      "Requirement already satisfied: typer<0.10.0,>=0.3.0 in /opt/anaconda3/lib/python3.11/site-packages (from spacy) (0.9.0)\n",
      "Requirement already satisfied: smart-open<7.0.0,>=5.2.1 in /opt/anaconda3/lib/python3.11/site-packages (from spacy) (5.2.1)\n",
      "Requirement already satisfied: tqdm<5.0.0,>=4.38.0 in /opt/anaconda3/lib/python3.11/site-packages (from spacy) (4.65.0)\n",
      "Requirement already satisfied: requests<3.0.0,>=2.13.0 in /opt/anaconda3/lib/python3.11/site-packages (from spacy) (2.31.0)\n",
      "Requirement already satisfied: pydantic!=1.8,!=1.8.1,<3.0.0,>=1.7.4 in /opt/anaconda3/lib/python3.11/site-packages (from spacy) (1.10.12)\n",
      "Requirement already satisfied: jinja2 in /opt/anaconda3/lib/python3.11/site-packages (from spacy) (3.1.3)\n",
      "Requirement already satisfied: setuptools in /opt/anaconda3/lib/python3.11/site-packages (from spacy) (68.2.2)\n",
      "Requirement already satisfied: packaging>=20.0 in /opt/anaconda3/lib/python3.11/site-packages (from spacy) (23.1)\n",
      "Requirement already satisfied: langcodes<4.0.0,>=3.2.0 in /opt/anaconda3/lib/python3.11/site-packages (from spacy) (3.3.0)\n",
      "Requirement already satisfied: numpy>=1.19.0 in /opt/anaconda3/lib/python3.11/site-packages (from spacy) (1.26.4)\n",
      "Requirement already satisfied: typing-extensions>=4.2.0 in /opt/anaconda3/lib/python3.11/site-packages (from pydantic!=1.8,!=1.8.1,<3.0.0,>=1.7.4->spacy) (4.9.0)\n",
      "Requirement already satisfied: charset-normalizer<4,>=2 in /opt/anaconda3/lib/python3.11/site-packages (from requests<3.0.0,>=2.13.0->spacy) (2.0.4)\n",
      "Requirement already satisfied: idna<4,>=2.5 in /opt/anaconda3/lib/python3.11/site-packages (from requests<3.0.0,>=2.13.0->spacy) (3.4)\n",
      "Requirement already satisfied: urllib3<3,>=1.21.1 in /opt/anaconda3/lib/python3.11/site-packages (from requests<3.0.0,>=2.13.0->spacy) (2.0.7)\n",
      "Requirement already satisfied: certifi>=2017.4.17 in /opt/anaconda3/lib/python3.11/site-packages (from requests<3.0.0,>=2.13.0->spacy) (2024.2.2)\n",
      "Requirement already satisfied: blis<0.8.0,>=0.7.8 in /opt/anaconda3/lib/python3.11/site-packages (from thinc<8.3.0,>=8.2.2->spacy) (0.7.11)\n",
      "Requirement already satisfied: confection<1.0.0,>=0.0.1 in /opt/anaconda3/lib/python3.11/site-packages (from thinc<8.3.0,>=8.2.2->spacy) (0.1.4)\n",
      "Requirement already satisfied: click<9.0.0,>=7.1.1 in /opt/anaconda3/lib/python3.11/site-packages (from typer<0.10.0,>=0.3.0->spacy) (8.1.7)\n",
      "Requirement already satisfied: cloudpathlib<0.17.0,>=0.7.0 in /opt/anaconda3/lib/python3.11/site-packages (from weasel<0.4.0,>=0.1.0->spacy) (0.16.0)\n",
      "Requirement already satisfied: MarkupSafe>=2.0 in /opt/anaconda3/lib/python3.11/site-packages (from jinja2->spacy) (2.1.3)\n"
     ]
    }
   ],
   "source": [
    "!pip install spacy\n",
    "\n",
    "import pandas as pd\n",
    "from gensim.models import Word2Vec\n",
    "from gensim.parsing.preprocessing import preprocess_string\n",
    "from gensim import corpora\n",
    "from gensim.parsing.preprocessing import preprocess_string, strip_tags, strip_punctuation, strip_multiple_whitespaces, strip_numeric, remove_stopwords, strip_short\n",
    "from spacy.lang.en import English\n",
    "\n",
    "reviews_train = pd.read_csv('reviews_train.csv', sep='\\t', encoding='ISO-8859-1')\n",
    "\n",
    "\n",
    "nlp = English()\n",
    "nlp.add_pipe('sentencizer')\n",
    "\n",
    "def custom_preprocess(document):\n",
    "    # spaCy tokenization and other custom preprocessing steps\n",
    "    doc = nlp(document)\n",
    "    tokens = [token.text.lower() for token in doc if not token.is_stop and not token.is_punct and not token.is_space and len(token.text) > 2]\n",
    "    return tokens\n",
    "\n",
    "# preprocessing\n",
    "reviews_train['processed_text'] = reviews_train['text'].apply(custom_preprocess)\n",
    "\n"
   ]
  },
  {
   "cell_type": "code",
   "execution_count": 13,
   "id": "4381569b",
   "metadata": {},
   "outputs": [],
   "source": [
    "# Combine all reviews \n",
    "user_reviews = reviews_train.groupby('user_id')['processed_text'].apply(lambda reviews: [word for review in reviews for word in review]).reset_index()\n",
    "\n",
    "# Combine all reviews written about each business\n",
    "business_reviews = reviews_train.groupby('business_id')['processed_text'].apply(lambda reviews: [word for review in reviews for word in review]).reset_index()\n"
   ]
  },
  {
   "cell_type": "code",
   "execution_count": 14,
   "id": "a8e8336d",
   "metadata": {},
   "outputs": [],
   "source": [
    "# Prepare data for Word2Vec\n",
    "all_reviews = reviews_train['processed_text'].tolist()\n",
    "all_reviews_flat = [word for review in all_reviews for word in review]\n",
    "\n",
    "# Train the Word2Vec model\n",
    "model = Word2Vec(sentences=[all_reviews_flat], vector_size=50, window=5, min_count=1, workers=4)\n",
    "\n",
    "# Save the model \n",
    "model.save(\"word2vec_reviews.model\")\n"
   ]
  },
  {
   "cell_type": "code",
   "execution_count": 15,
   "id": "2134cbd9",
   "metadata": {},
   "outputs": [],
   "source": [
    "# Function to generate embedding for a list of words\n",
    "def generate_embedding(words, model):\n",
    "    valid_words = [word for word in words if word in model.wv]\n",
    "    if valid_words:\n",
    "        return np.mean(model.wv[valid_words], axis=0)\n",
    "    else:\n",
    "        # Return a zero vector if no valid words are found\n",
    "        return np.zeros(model.vector_size)\n",
    "\n",
    "# Generate embeddings for users\n",
    "user_reviews['embedding'] = user_reviews['processed_text'].apply(lambda x: generate_embedding(x, model))\n",
    "\n",
    "# Generate embeddings for businesses\n",
    "business_reviews['embedding'] = business_reviews['processed_text'].apply(lambda x: generate_embedding(x, model))\n"
   ]
  },
  {
   "attachments": {},
   "cell_type": "markdown",
   "id": "a99ef8bf",
   "metadata": {},
   "source": [
    "## Step 2"
   ]
  },
  {
   "cell_type": "code",
   "execution_count": 16,
   "id": "1de10a29",
   "metadata": {},
   "outputs": [],
   "source": [
    "import pandas as pd\n",
    "import numpy as np\n",
    "from gensim.models import Word2Vec\n",
    "from gensim.parsing.preprocessing import preprocess_string\n",
    "from sklearn.metrics import mean_squared_error\n",
    "\n",
    "reviews_test = pd.read_csv('reviews_test_all.csv', sep='\\t', encoding='ISO-8859-1')\n",
    "\n"
   ]
  },
  {
   "cell_type": "code",
   "execution_count": 17,
   "id": "32f28e14-e237-4a4b-820b-26d00922c3ef",
   "metadata": {},
   "outputs": [
    {
     "data": {
      "text/plain": [
       "4.020911256104164"
      ]
     },
     "execution_count": 17,
     "metadata": {},
     "output_type": "execute_result"
    }
   ],
   "source": [
    "\n",
    "\n",
    "# Load previously saved Word2Vec model\n",
    "model = Word2Vec.load(\"word2vec_reviews.model\")\n",
    "\n",
    "def generate_embedding(words, model):\n",
    "    valid_words = [word for word in words if word in model.wv]\n",
    "    if valid_words:\n",
    "        return np.mean(model.wv[valid_words], axis=0)\n",
    "    else:\n",
    "        # Return a zero vector if no valid words are found\n",
    "        return np.zeros(model.vector_size)\n",
    "\n",
    "user_embeddings = user_reviews.set_index('user_id')['embedding'].to_dict()\n",
    "business_embeddings = business_reviews.set_index('business_id')['embedding'].to_dict()\n",
    "\n",
    "def predict_rating(user_id, business_id, user_embeddings, business_embeddings):\n",
    "    user_embedding = user_embeddings.get(user_id)\n",
    "    business_embedding = business_embeddings.get(business_id)\n",
    "    if user_embedding is not None and business_embedding is not None:\n",
    "        # Dot product\n",
    "        return np.dot(user_embedding, business_embedding)\n",
    "    else:\n",
    "        # Return a default rating in case there's no embedding\n",
    "        return np.nan\n",
    "\n",
    "# Apply prediction to each row in the test dataset\n",
    "reviews_test['predicted_stars'] = reviews_test.apply(\n",
    "    lambda row: predict_rating(row['user_id'], row['business_id'], user_embeddings, business_embeddings), axis=1)\n",
    "\n",
    "#  RMSE\n",
    "rmse = np.sqrt(mean_squared_error(reviews_test.dropna(subset=['predicted_stars'])['stars'], reviews_test.dropna(subset=['predicted_stars'])['predicted_stars']))\n",
    "rmse\n"
   ]
  },
  {
   "cell_type": "code",
   "execution_count": 18,
   "id": "14edb6a0",
   "metadata": {},
   "outputs": [
    {
     "name": "stdout",
     "output_type": "stream",
     "text": [
      "RMSE: 4.020911256104164\n"
     ]
    }
   ],
   "source": [
    "#REMOVE AT LAST\n",
    "import numpy as np\n",
    "from sklearn.metrics import mean_squared_error\n",
    "\n",
    "\n",
    "user_embeddings = {row['user_id']: row['embedding'] for index, row in user_reviews.iterrows()}\n",
    "business_embeddings = {row['business_id']: row['embedding'] for index, row in business_reviews.iterrows()}\n",
    "\n",
    "def predict_rating(user_id, business_id):\n",
    "    user_embedding = user_embeddings.get(user_id)\n",
    "    business_embedding = business_embeddings.get(business_id)\n",
    "    if user_embedding is not None and business_embedding is not None:\n",
    "        # Dot product\n",
    "        return np.dot(user_embedding, business_embedding)\n",
    "    else:\n",
    "        # Return a default rating in case there's no embedding\n",
    "        return np.nan\n",
    "\n",
    "# Apply prediction to each row in the test dataset\n",
    "reviews_test['predicted_stars'] = reviews_test.apply(lambda row: predict_rating(row['user_id'], row['business_id']), axis=1)\n",
    "\n",
    "# Compute RMSE\n",
    "rmse = np.sqrt(mean_squared_error(reviews_test.dropna(subset=['predicted_stars'])['stars'], reviews_test.dropna(subset=['predicted_stars'])['predicted_stars']))\n",
    "print(f\"RMSE: {rmse}\")\n"
   ]
  },
  {
   "cell_type": "code",
   "execution_count": null,
   "id": "5b8726fa",
   "metadata": {},
   "outputs": [],
   "source": []
  },
  {
   "attachments": {},
   "cell_type": "markdown",
   "id": "91327e2c",
   "metadata": {},
   "source": [
    "# Task 3"
   ]
  },
  {
   "cell_type": "code",
   "execution_count": 19,
   "id": "3ce89661",
   "metadata": {},
   "outputs": [
    {
     "name": "stdout",
     "output_type": "stream",
     "text": [
      "               business_id                      name  \\\n",
      "0   Pns2l4eNsfO8kk83dixA6A  Abby Rappoport, LAC, CMQ   \n",
      "1   mpf3x-BjTdTEA3yCZrAYPw             The UPS Store   \n",
      "2   tUFrWirKiKi_TAnsVWINQQ                    Target   \n",
      "3   MTSW4McQd7CbVtyjqoe9mw        St Honore Pastries   \n",
      "4   mWMc6_wTdE0EUBKIGXDVfA  Perkiomen Valley Brewery   \n",
      "5   CF33F8-E6oudUQ46HnavjQ            Sonic Drive-In   \n",
      "6   n_0UpQx1hsNbnPUSlodU8w           Famous Footwear   \n",
      "7   qkRM_2X51Yqxk3btlwAQIg            Temple Beth-El   \n",
      "8   k0hlBqXX-Bt0vf1op7Jr1w     Tsevi's Pub And Grill   \n",
      "9   bBDDEgkFA1Otx9Lfe7BZUQ            Sonic Drive-In   \n",
      "10  UJsufbvfyfONHeWdvAHKjA                 Marshalls   \n",
      "11  eEOYSgkmpB90uNA7lDOMRA     Vietnamese Food Truck   \n",
      "12  il_Ro8jwPlHresjw9EGmBg                   Denny's   \n",
      "13  jaxMSoInw8Poo3XeMJt8lQ              Adams Dental   \n",
      "14  0bPLkL0QhhPO5kt1_EXmNQ      Zio's Italian Market   \n",
      "15  MUTTqe8uqyMdBl186RmNeA                  Tuna Bar   \n",
      "16  rBmpy_Y1UbBx8ggHlyb7hA  Arizona Truck Outfitters   \n",
      "17  M0XSSHqrASOnhgbWDJIpQA            Herb Import Co   \n",
      "18  8wGISYjYkE2tSqn3cDMu8A          Nifty Car Rental   \n",
      "19  ROeacJQwBeh05Rqg7F6TCg                       BAP   \n",
      "\n",
      "                                           categories            city  stars  \n",
      "0   Doctors, Traditional Chinese Medicine, Naturop...   santa barbara    5.0  \n",
      "1   Shipping Centers, Local Services, Notaries, Ma...          affton    3.0  \n",
      "2   Department Stores, Shopping, Fashion, Home & G...          tucson    3.5  \n",
      "3   Restaurants, Food, Bubble Tea, Coffee & Tea, B...    philadelphia    4.0  \n",
      "4                           Brewpubs, Breweries, Food      green lane    4.5  \n",
      "5   Burgers, Fast Food, Sandwiches, Food, Ice Crea...    ashland city    2.0  \n",
      "6   Sporting Goods, Fashion, Shoe Stores, Shopping...       brentwood    2.5  \n",
      "7                 Synagogues, Religious Organizations  st. petersburg    3.5  \n",
      "8   Pubs, Restaurants, Italian, Bars, American (Tr...          affton    3.0  \n",
      "9   Ice Cream & Frozen Yogurt, Fast Food, Burgers,...       nashville    1.5  \n",
      "10               Department Stores, Shopping, Fashion   land o' lakes    3.5  \n",
      "11         Vietnamese, Food, Restaurants, Food Trucks       tampa bay    4.0  \n",
      "12  American (Traditional), Restaurants, Diners, B...    indianapolis    2.5  \n",
      "13  General Dentistry, Dentists, Health & Medical,...      clearwater    5.0  \n",
      "14        Food, Delis, Italian, Bakeries, Restaurants           largo    4.5  \n",
      "15                  Sushi Bars, Restaurants, Japanese    philadelphia    4.0  \n",
      "16  Automotive, Auto Parts & Supplies, Auto Custom...          tucson    4.5  \n",
      "17  Vape Shops, Tobacco Shops, Personal Shopping, ...     new orleans    4.0  \n",
      "18  Automotive, Car Rental, Hotels & Travel, Truck...          kenner    3.5  \n",
      "19                                Korean, Restaurants    philadelphia    4.5  \n"
     ]
    }
   ],
   "source": [
    "print(businesses_df[['business_id', 'name', 'categories','city', 'stars']].head(20))\n"
   ]
  },
  {
   "cell_type": "code",
   "execution_count": null,
   "id": "c71f381c",
   "metadata": {},
   "outputs": [],
   "source": []
  },
  {
   "attachments": {},
   "cell_type": "markdown",
   "id": "bf5edee4",
   "metadata": {},
   "source": [
    "## QUERY 1"
   ]
  },
  {
   "attachments": {},
   "cell_type": "markdown",
   "id": "5b513a0e",
   "metadata": {},
   "source": [
    "### List 5 Restaurents similar to  'Cafe Soleil'  in Florida"
   ]
  },
  {
   "cell_type": "code",
   "execution_count": 20,
   "id": "13735dd3",
   "metadata": {},
   "outputs": [
    {
     "name": "stdout",
     "output_type": "stream",
     "text": [
      "Found 5797 restaurants in Florida.\n"
     ]
    }
   ],
   "source": [
    "# Filter for restaurants in Florida\n",
    "florida_restaurants = businesses_df[\n",
    "    businesses_df['categories'].str.contains('Restaurants', case=False, na=False) & \n",
    "    (businesses_df['state'] == 'FL')\n",
    "].copy()\n",
    "\n",
    "# Ensure there are restaurants in Florida to work with\n",
    "if florida_restaurants.empty:\n",
    "    print(\"No restaurants found in Florida in the dataset.\")\n",
    "else:\n",
    "    print(f\"Found {len(florida_restaurants)} restaurants in Florida.\")\n"
   ]
  },
  {
   "cell_type": "code",
   "execution_count": 21,
   "id": "a91a0e31",
   "metadata": {},
   "outputs": [
    {
     "data": {
      "text/html": [
       "<div>\n",
       "<style scoped>\n",
       "    .dataframe tbody tr th:only-of-type {\n",
       "        vertical-align: middle;\n",
       "    }\n",
       "\n",
       "    .dataframe tbody tr th {\n",
       "        vertical-align: top;\n",
       "    }\n",
       "\n",
       "    .dataframe thead th {\n",
       "        text-align: right;\n",
       "    }\n",
       "</style>\n",
       "<table border=\"1\" class=\"dataframe\">\n",
       "  <thead>\n",
       "    <tr style=\"text-align: right;\">\n",
       "      <th></th>\n",
       "      <th>Unnamed: 0</th>\n",
       "      <th>business_id</th>\n",
       "      <th>name</th>\n",
       "      <th>address</th>\n",
       "      <th>city</th>\n",
       "      <th>state</th>\n",
       "      <th>postal_code</th>\n",
       "      <th>latitude</th>\n",
       "      <th>longitude</th>\n",
       "      <th>stars</th>\n",
       "      <th>review_count</th>\n",
       "      <th>is_open</th>\n",
       "      <th>attributes</th>\n",
       "      <th>categories</th>\n",
       "      <th>hours</th>\n",
       "      <th>attributes_dict</th>\n",
       "      <th>distance_to_landmark</th>\n",
       "    </tr>\n",
       "  </thead>\n",
       "  <tbody>\n",
       "    <tr>\n",
       "      <th>11</th>\n",
       "      <td>11</td>\n",
       "      <td>eEOYSgkmpB90uNA7lDOMRA</td>\n",
       "      <td>Vietnamese Food Truck</td>\n",
       "      <td>NaN</td>\n",
       "      <td>tampa bay</td>\n",
       "      <td>FL</td>\n",
       "      <td>33602</td>\n",
       "      <td>27.955269</td>\n",
       "      <td>-82.456320</td>\n",
       "      <td>4.0</td>\n",
       "      <td>10</td>\n",
       "      <td>1</td>\n",
       "      <td>{'Alcohol': \"'none'\", 'OutdoorSeating': 'None'...</td>\n",
       "      <td>Vietnamese, Food, Restaurants, Food Trucks</td>\n",
       "      <td>{'Monday': '11:0-14:0', 'Tuesday': '11:0-14:0'...</td>\n",
       "      <td>{'Alcohol': ''none'', 'OutdoorSeating': 'None'...</td>\n",
       "      <td>1490.371907</td>\n",
       "    </tr>\n",
       "    <tr>\n",
       "      <th>14</th>\n",
       "      <td>14</td>\n",
       "      <td>0bPLkL0QhhPO5kt1_EXmNQ</td>\n",
       "      <td>Zio's Italian Market</td>\n",
       "      <td>2575 E Bay Dr</td>\n",
       "      <td>largo</td>\n",
       "      <td>FL</td>\n",
       "      <td>33771</td>\n",
       "      <td>27.916116</td>\n",
       "      <td>-82.760461</td>\n",
       "      <td>4.5</td>\n",
       "      <td>100</td>\n",
       "      <td>0</td>\n",
       "      <td>{'OutdoorSeating': 'False', 'RestaurantsGoodFo...</td>\n",
       "      <td>Food, Delis, Italian, Bakeries, Restaurants</td>\n",
       "      <td>{'Monday': '10:0-18:0', 'Tuesday': '10:0-20:0'...</td>\n",
       "      <td>{'OutdoorSeating': 'False', 'RestaurantsGoodFo...</td>\n",
       "      <td>1507.082853</td>\n",
       "    </tr>\n",
       "    <tr>\n",
       "      <th>58</th>\n",
       "      <td>58</td>\n",
       "      <td>uI9XODGY_2_ieTE6xJ0myw</td>\n",
       "      <td>Roman Forum</td>\n",
       "      <td>10440 N Dale Mabry Hwy</td>\n",
       "      <td>tampa</td>\n",
       "      <td>FL</td>\n",
       "      <td>33618</td>\n",
       "      <td>28.046203</td>\n",
       "      <td>-82.505053</td>\n",
       "      <td>4.0</td>\n",
       "      <td>23</td>\n",
       "      <td>0</td>\n",
       "      <td>{'BusinessParking': \"{'garage': False, 'street...</td>\n",
       "      <td>Restaurants, American (New), Italian</td>\n",
       "      <td>{'Monday': '11:30-21:0', 'Tuesday': '11:30-21:...</td>\n",
       "      <td>{'BusinessParking': '{'garage': False, 'street...</td>\n",
       "      <td>1483.270449</td>\n",
       "    </tr>\n",
       "    <tr>\n",
       "      <th>59</th>\n",
       "      <td>59</td>\n",
       "      <td>JgpnXv_0XhV3SfbfB50nxw</td>\n",
       "      <td>Joe's Pizza</td>\n",
       "      <td>2038 N Dale Mabry Hwy</td>\n",
       "      <td>tampa</td>\n",
       "      <td>FL</td>\n",
       "      <td>33607</td>\n",
       "      <td>27.960514</td>\n",
       "      <td>-82.506127</td>\n",
       "      <td>4.0</td>\n",
       "      <td>35</td>\n",
       "      <td>0</td>\n",
       "      <td>{'BusinessParking': \"{'garage': False, 'street...</td>\n",
       "      <td>Restaurants, Pizza</td>\n",
       "      <td>{'Monday': '11:0-22:0', 'Tuesday': '11:0-22:0'...</td>\n",
       "      <td>{'BusinessParking': '{'garage': False, 'street...</td>\n",
       "      <td>1491.913460</td>\n",
       "    </tr>\n",
       "    <tr>\n",
       "      <th>79</th>\n",
       "      <td>79</td>\n",
       "      <td>pJfh3Ct8iL58NZa8ta-a5w</td>\n",
       "      <td>Top Shelf Sports Lounge</td>\n",
       "      <td>3173 Cypress Ridge Blvd</td>\n",
       "      <td>wesley chapel</td>\n",
       "      <td>FL</td>\n",
       "      <td>33544</td>\n",
       "      <td>28.196252</td>\n",
       "      <td>-82.380615</td>\n",
       "      <td>4.5</td>\n",
       "      <td>95</td>\n",
       "      <td>1</td>\n",
       "      <td>{'BestNights': \"{'monday': False, 'tuesday': F...</td>\n",
       "      <td>Burgers, Sports Bars, Bars, Lounges, Restauran...</td>\n",
       "      <td>{'Monday': '11:30-22:0', 'Tuesday': '11:30-23:...</td>\n",
       "      <td>{'BestNights': '{'monday': False, 'tuesday': F...</td>\n",
       "      <td>1463.022645</td>\n",
       "    </tr>\n",
       "  </tbody>\n",
       "</table>\n",
       "</div>"
      ],
      "text/plain": [
       "    Unnamed: 0             business_id                     name  \\\n",
       "11          11  eEOYSgkmpB90uNA7lDOMRA    Vietnamese Food Truck   \n",
       "14          14  0bPLkL0QhhPO5kt1_EXmNQ     Zio's Italian Market   \n",
       "58          58  uI9XODGY_2_ieTE6xJ0myw              Roman Forum   \n",
       "59          59  JgpnXv_0XhV3SfbfB50nxw              Joe's Pizza   \n",
       "79          79  pJfh3Ct8iL58NZa8ta-a5w  Top Shelf Sports Lounge   \n",
       "\n",
       "                    address           city state postal_code   latitude  \\\n",
       "11                      NaN      tampa bay    FL       33602  27.955269   \n",
       "14            2575 E Bay Dr          largo    FL       33771  27.916116   \n",
       "58   10440 N Dale Mabry Hwy          tampa    FL       33618  28.046203   \n",
       "59    2038 N Dale Mabry Hwy          tampa    FL       33607  27.960514   \n",
       "79  3173 Cypress Ridge Blvd  wesley chapel    FL       33544  28.196252   \n",
       "\n",
       "    longitude  stars  review_count  is_open  \\\n",
       "11 -82.456320    4.0            10        1   \n",
       "14 -82.760461    4.5           100        0   \n",
       "58 -82.505053    4.0            23        0   \n",
       "59 -82.506127    4.0            35        0   \n",
       "79 -82.380615    4.5            95        1   \n",
       "\n",
       "                                           attributes  \\\n",
       "11  {'Alcohol': \"'none'\", 'OutdoorSeating': 'None'...   \n",
       "14  {'OutdoorSeating': 'False', 'RestaurantsGoodFo...   \n",
       "58  {'BusinessParking': \"{'garage': False, 'street...   \n",
       "59  {'BusinessParking': \"{'garage': False, 'street...   \n",
       "79  {'BestNights': \"{'monday': False, 'tuesday': F...   \n",
       "\n",
       "                                           categories  \\\n",
       "11         Vietnamese, Food, Restaurants, Food Trucks   \n",
       "14        Food, Delis, Italian, Bakeries, Restaurants   \n",
       "58               Restaurants, American (New), Italian   \n",
       "59                                 Restaurants, Pizza   \n",
       "79  Burgers, Sports Bars, Bars, Lounges, Restauran...   \n",
       "\n",
       "                                                hours  \\\n",
       "11  {'Monday': '11:0-14:0', 'Tuesday': '11:0-14:0'...   \n",
       "14  {'Monday': '10:0-18:0', 'Tuesday': '10:0-20:0'...   \n",
       "58  {'Monday': '11:30-21:0', 'Tuesday': '11:30-21:...   \n",
       "59  {'Monday': '11:0-22:0', 'Tuesday': '11:0-22:0'...   \n",
       "79  {'Monday': '11:30-22:0', 'Tuesday': '11:30-23:...   \n",
       "\n",
       "                                      attributes_dict  distance_to_landmark  \n",
       "11  {'Alcohol': ''none'', 'OutdoorSeating': 'None'...           1490.371907  \n",
       "14  {'OutdoorSeating': 'False', 'RestaurantsGoodFo...           1507.082853  \n",
       "58  {'BusinessParking': '{'garage': False, 'street...           1483.270449  \n",
       "59  {'BusinessParking': '{'garage': False, 'street...           1491.913460  \n",
       "79  {'BestNights': '{'monday': False, 'tuesday': F...           1463.022645  "
      ]
     },
     "execution_count": 21,
     "metadata": {},
     "output_type": "execute_result"
    }
   ],
   "source": [
    "florida_restaurants.head()"
   ]
  },
  {
   "cell_type": "code",
   "execution_count": 22,
   "id": "16381671",
   "metadata": {},
   "outputs": [
    {
     "name": "stdout",
     "output_type": "stream",
     "text": [
      "Top-rated restaurant in Florida: Cafe Soleil with 5.0 stars and 468 reviews.\n"
     ]
    }
   ],
   "source": [
    "# Find the top-rated restaurant\n",
    "top_rated_florida_restaurant = florida_restaurants.sort_values(by=['stars', 'review_count'], ascending=False).iloc[0]\n",
    "print(f\"Top-rated restaurant in Florida: {top_rated_florida_restaurant['name']} with {top_rated_florida_restaurant['stars']} stars and {top_rated_florida_restaurant['review_count']} reviews.\")\n"
   ]
  },
  {
   "cell_type": "code",
   "execution_count": 24,
   "id": "e854bb46",
   "metadata": {},
   "outputs": [
    {
     "name": "stdout",
     "output_type": "stream",
     "text": [
      "Top 5 similar restaurants to the top-rated restaurant Cafe Soleil in Florida:\n",
      "                          name  stars  \\\n",
      "1              American Social    3.5   \n",
      "2              Wildflower Cafe    4.5   \n",
      "3  Provisions Coffee & Kitchen    4.5   \n",
      "4       Chipotle Mexican Grill    3.0   \n",
      "5                     Culver's    3.5   \n",
      "\n",
      "                                          categories  similarity  \n",
      "1  American (Traditional), Restaurants, Venues & ...    0.834353  \n",
      "2  Salad, Sandwiches, Restaurants, Breakfast & Br...    0.825881  \n",
      "3  Bakeries, Coffee & Tea, Bars, Donuts, Beer Bar...    0.823023  \n",
      "4                    Mexican, Fast Food, Restaurants    0.821268  \n",
      "5  Ice Cream & Frozen Yogurt, Restaurants, Food, ...    0.820097  \n"
     ]
    },
    {
     "name": "stderr",
     "output_type": "stream",
     "text": [
      "/var/folders/xr/tyq3wjjj52q3lwgg2qwrbhh80000gp/T/ipykernel_43204/4043492596.py:14: SettingWithCopyWarning: \n",
      "A value is trying to be set on a copy of a slice from a DataFrame.\n",
      "Try using .loc[row_indexer,col_indexer] = value instead\n",
      "\n",
      "See the caveats in the documentation: https://pandas.pydata.org/pandas-docs/stable/user_guide/indexing.html#returning-a-view-versus-a-copy\n",
      "  florida_restaurant_embeddings['similarity'] = cosine_similarities\n"
     ]
    }
   ],
   "source": [
    "from sklearn.metrics.pairwise import cosine_similarity\n",
    "import numpy as np\n",
    "\n",
    "business_embeddings_df= business_reviews\n",
    "# Convert list embeddings to array for cosine similarity calculation\n",
    "business_embeddings_df['embedding_array'] = business_embeddings_df['embedding'].apply(lambda x: np.array(x))\n",
    "\n",
    "top_rated_embedding = business_embeddings_df.loc[business_embeddings_df['business_id'] == top_rated_florida_restaurant['business_id'], 'embedding_array'].values[0]\n",
    "\n",
    "# cosine similarity with all restaurants in Florida\n",
    "florida_restaurant_embeddings = business_embeddings_df[business_embeddings_df['business_id'].isin(florida_restaurants['business_id'])]\n",
    "cosine_similarities = cosine_similarity([top_rated_embedding], np.stack(florida_restaurant_embeddings['embedding_array'].values))[0]\n",
    "\n",
    "florida_restaurant_embeddings['similarity'] = cosine_similarities\n",
    "\n",
    "# Merge back with businesses dataframe to get names and other info\n",
    "similar_restaurants = florida_restaurant_embeddings.sort_values(by='similarity', ascending=False).head(6)  # Top 6 because the first one will be the restaurant itself\n",
    "similar_restaurants_info = pd.merge(similar_restaurants, businesses_df, on='business_id', how='left')\n",
    "\n",
    "# Display the top 5 similar restaurants\n",
    "print(\"Top 5 similar restaurants to the top-rated restaurant Cafe Soleil in Florida:\")\n",
    "print(similar_restaurants_info[['name', 'stars', 'categories', 'similarity']].iloc[1:])  # Skipping the first row as it is the top-rated restaurant itself\n"
   ]
  },
  {
   "attachments": {},
   "cell_type": "markdown",
   "id": "a3c679fe",
   "metadata": {},
   "source": [
    "## QUERY 2"
   ]
  },
  {
   "attachments": {},
   "cell_type": "markdown",
   "id": "eaf1e6dc",
   "metadata": {},
   "source": [
    "### Outdoor activities similar to Parasailing in Florida"
   ]
  },
  {
   "cell_type": "code",
   "execution_count": 25,
   "id": "8fa78ac3",
   "metadata": {},
   "outputs": [
    {
     "name": "stdout",
     "output_type": "stream",
     "text": [
      "Reference Business ID: bNJSy64VXxQ3RZ8tNpM-fA\n",
      "Similar Outdoor Activity Businesses in Florida:\n",
      "                          name  stars  \\\n",
      "17        Pirate's Cove Marina    2.5   \n",
      "12  Dream Catcher Explorations    5.0   \n",
      "6             Hubbard's Marina    4.5   \n",
      "15            Cost Plus Marine    4.5   \n",
      "9          Woody's Watersports    4.5   \n",
      "\n",
      "                                           categories  similarity  \n",
      "17          Active Life, Boating, Automotive, Marinas    0.546729  \n",
      "12  Tubing, Tours, Snorkeling, Boating, Boat Tours...    0.522096  \n",
      "6   Fishing, Beaches, Boating, Active Life, Boat C...    0.515203  \n",
      "15                               Boating, Active Life    0.399620  \n",
      "9   Boating, Active Life, Jet Skis, Tours, Sportin...    0.394335  \n"
     ]
    }
   ],
   "source": [
    "import pandas as pd\n",
    "import numpy as np\n",
    "from sklearn.metrics.pairwise import cosine_similarity\n",
    "\n",
    "# Ensure 'categories' column is string type and not missing\n",
    "businesses_df['categories'] = businesses_df['categories'].astype(str)\n",
    "\n",
    "# Define relevant categories for filtering\n",
    "relevant_categories = ['Kayaking', 'Paddleboarding', 'Boating', 'Outdoor Gear']\n",
    "\n",
    "# Filter businesses in Florida that are related to kayaking or similar activities\n",
    "florida_related_activities = businesses_df[\n",
    "    (businesses_df['state'] == 'FL') &\n",
    "    (businesses_df['categories'].str.contains('|'.join(relevant_categories), case=False))\n",
    "]\n",
    "\n",
    "# Filter to ensure we're only working with businesses that have embeddings\n",
    "florida_related_activities_with_embeddings = florida_related_activities.merge(business_embeddings_df, on='business_id')\n",
    "\n",
    "if not florida_related_activities_with_embeddings.empty:\n",
    "    reference_business_id = florida_related_activities_with_embeddings.sort_values(by='stars', ascending=False).iloc[0]['business_id']\n",
    "    print(f\"Reference Business ID: {reference_business_id}\")\n",
    "\n",
    "    # Ensure the reference business has an embedding\n",
    "    if reference_business_id in florida_related_activities_with_embeddings['business_id'].values:\n",
    "        reference_embedding = florida_related_activities_with_embeddings[florida_related_activities_with_embeddings['business_id'] == reference_business_id]['embedding_array'].iloc[0]\n",
    "        \n",
    "        # Calculate similarities with other Florida-related activities\n",
    "        all_embeddings = np.stack(florida_related_activities_with_embeddings['embedding_array'].values)\n",
    "        similarities = cosine_similarity([reference_embedding], all_embeddings)[0]\n",
    "        \n",
    "        # Assign similarities back to the filtered DataFrame\n",
    "        florida_related_activities_with_embeddings['similarity'] = similarities\n",
    "        \n",
    "        # Sort by similarity and exclude the reference business from the results\n",
    "        similar_businesses = florida_related_activities_with_embeddings.sort_values(by='similarity', ascending=False).iloc[1:6]\n",
    "        print(\"Similar Outdoor Activity Businesses in Florida:\")\n",
    "        print(similar_businesses[['name', 'stars', 'categories', 'similarity']])\n",
    "    else:\n",
    "        print(f\"No embedding found for the reference business ID {reference_business_id}.\")\n",
    "else:\n",
    "    print(\"No related outdoor activity businesses found in Florida.\")\n"
   ]
  },
  {
   "cell_type": "code",
   "execution_count": null,
   "id": "2060f3fe",
   "metadata": {
    "scrolled": true
   },
   "outputs": [],
   "source": []
  },
  {
   "attachments": {},
   "cell_type": "markdown",
   "id": "b7424304",
   "metadata": {},
   "source": [
    "## QUERY 3"
   ]
  },
  {
   "attachments": {},
   "cell_type": "markdown",
   "id": "eedefac5",
   "metadata": {},
   "source": [
    "### List 5  Breweries similar to 'Eclipse Brewing' in NewJersey"
   ]
  },
  {
   "cell_type": "code",
   "execution_count": 26,
   "id": "2b8881e5",
   "metadata": {
    "scrolled": true
   },
   "outputs": [
    {
     "name": "stdout",
     "output_type": "stream",
     "text": [
      "Reference Brewery: Eclipse Brewing in NJ\n",
      "Breweries similar to 'Eclipse Brewing' in NJ:\n",
      "                      name  stars  \\\n",
      "33    Tennessee Brew Works    4.5   \n",
      "54  Ten Fifty-Five Brewing    4.5   \n",
      "67     Angry Chair Brewing    4.0   \n",
      "57    Third Window Brewing    4.5   \n",
      "60         Deviate Brewing    4.5   \n",
      "\n",
      "                                           categories  similarity  \n",
      "33  Breweries, Venues & Event Spaces, Beer Bar, Fo...    0.698393  \n",
      "54                                    Breweries, Food    0.686093  \n",
      "67                   Nightlife, Breweries, Food, Bars    0.683598  \n",
      "57  Nightlife, Beer Gardens, Breweries, Food, Beer...    0.675518  \n",
      "60                      Breweries, Food, Local Flavor    0.667477  \n"
     ]
    }
   ],
   "source": [
    "import pandas as pd\n",
    "import numpy as np\n",
    "from sklearn.metrics.pairwise import cosine_similarity\n",
    "\n",
    "\n",
    "# Ensure 'categories' column is string type and not missing\n",
    "businesses_df['categories'] = businesses_df['categories'].astype(str)\n",
    "\n",
    "# Filter for businesses within the \"Breweries\" category\n",
    "brewery_businesses = businesses_df[\n",
    "    businesses_df['categories'].str.contains('Breweries', case=False)\n",
    "]\n",
    "\n",
    "# Ensure we're working only with businesses that have embeddings\n",
    "brewery_businesses_with_embeddings = brewery_businesses.merge(business_embeddings_df, on='business_id', how='inner')\n",
    "\n",
    "if not brewery_businesses_with_embeddings.empty:\n",
    "    reference_brewery = brewery_businesses_with_embeddings.sort_values(by='stars', ascending=False).iloc[0]\n",
    "    reference_business_id = reference_brewery['business_id']\n",
    "    reference_brewery_name = reference_brewery['name']\n",
    "    reference_brewery_state = reference_brewery['state']\n",
    "\n",
    "    print(f\"Reference Brewery: {reference_brewery_name} in {reference_brewery_state}\")\n",
    "\n",
    "    # Ensure the reference business has an embedding\n",
    "    if reference_business_id in brewery_businesses_with_embeddings['business_id'].values:\n",
    "        reference_embedding = brewery_businesses_with_embeddings[brewery_businesses_with_embeddings['business_id'] == reference_business_id]['embedding'].iloc[0]\n",
    "        \n",
    "        # Compute cosine similarities\n",
    "        all_embeddings = np.stack(brewery_businesses_with_embeddings['embedding'].values)\n",
    "        similarities = cosine_similarity([reference_embedding], all_embeddings)[0]\n",
    "        \n",
    "        # Assign similarities back to the DataFrame\n",
    "        brewery_businesses_with_embeddings['similarity'] = similarities\n",
    "        \n",
    "        # Exclude the reference brewery, sort by similarity, and select the top 5\n",
    "        similar_breweries = brewery_businesses_with_embeddings[brewery_businesses_with_embeddings['business_id'] != reference_business_id].sort_values(by='similarity', ascending=False).head(5)\n",
    "        \n",
    "        # Display similar breweries\n",
    "        print(f\"Breweries similar to '{reference_brewery_name}' in {reference_brewery_state}:\")\n",
    "        print(similar_breweries[['name', 'stars', 'categories', 'similarity']])\n",
    "    else:\n",
    "        print(f\"No embedding found for the reference brewery ID {reference_business_id}.\")\n",
    "else:\n",
    "    print(\"No brewery businesses with embeddings found.\")\n"
   ]
  },
  {
   "attachments": {},
   "cell_type": "markdown",
   "id": "070d2136",
   "metadata": {},
   "source": []
  },
  {
   "attachments": {},
   "cell_type": "markdown",
   "id": "2a37dc4f",
   "metadata": {},
   "source": [
    "## QUERY 4"
   ]
  },
  {
   "attachments": {},
   "cell_type": "markdown",
   "id": "2e4d3df4",
   "metadata": {},
   "source": [
    "### Yoga studios similar to 'MUUV Yoga Boise' in ID:"
   ]
  },
  {
   "cell_type": "code",
   "execution_count": 27,
   "id": "56081821",
   "metadata": {},
   "outputs": [
    {
     "name": "stdout",
     "output_type": "stream",
     "text": [
      "Reference Yoga Studio: MUUV Yoga Boise in ID\n",
      "Yoga studios similar to 'MUUV Yoga Boise' in ID:\n",
      "                               name  stars  \\\n",
      "16             Sage Yoga & Wellness    5.0   \n",
      "45  Bella Prana Yoga and Meditation    4.5   \n",
      "38                     Session Yoga    4.5   \n",
      "47              Pilates Yoga Studio    4.0   \n",
      "17                   Priya Hot Yoga    4.5   \n",
      "\n",
      "                                           categories  similarity  \n",
      "16           Yoga, Active Life, Fitness & Instruction    0.608669  \n",
      "45  Meditation Centers, Active Life, Fitness & Ins...    0.573921  \n",
      "38  Health & Medical, Yoga, Beauty & Spas, Active ...    0.528850  \n",
      "47  Yoga, Trainers, Fitness & Instruction, Active ...    0.518585  \n",
      "17           Active Life, Yoga, Fitness & Instruction    0.495998  \n"
     ]
    }
   ],
   "source": [
    "import pandas as pd\n",
    "import numpy as np\n",
    "from sklearn.metrics.pairwise import cosine_similarity\n",
    "\n",
    "# Ensure 'categories' column is string type and not missing\n",
    "businesses_df['categories'] = businesses_df['categories'].astype(str)\n",
    "\n",
    "# Filter for businesses within the \"Yoga\" category\n",
    "yoga_studios = businesses_df[\n",
    "    businesses_df['categories'].str.contains('Yoga', case=False)\n",
    "]\n",
    "\n",
    "# Ensure we're working only with businesses that have embeddings\n",
    "yoga_studios_with_embeddings = yoga_studios.merge(business_embeddings_df, on='business_id', how='inner')\n",
    "\n",
    "if not yoga_studios_with_embeddings.empty:\n",
    "    # Select a reference business ID based on a criterion, such as a unique feature or high rating\n",
    "    reference_yoga_studio = yoga_studios_with_embeddings.sort_values(by='stars', ascending=False).iloc[0]\n",
    "    reference_business_id = reference_yoga_studio['business_id']\n",
    "    reference_yoga_studio_name = reference_yoga_studio['name']\n",
    "    reference_yoga_studio_state = reference_yoga_studio['state']\n",
    "\n",
    "    print(f\"Reference Yoga Studio: {reference_yoga_studio_name} in {reference_yoga_studio_state}\")\n",
    "\n",
    "    # Ensure the reference business has an embedding\n",
    "    if reference_business_id in yoga_studios_with_embeddings['business_id'].values:\n",
    "        reference_embedding = yoga_studios_with_embeddings[yoga_studios_with_embeddings['business_id'] == reference_business_id]['embedding'].iloc[0]\n",
    "        \n",
    "        # Compute cosine similarities\n",
    "        all_embeddings = np.stack(yoga_studios_with_embeddings['embedding'].values)\n",
    "        similarities = cosine_similarity([reference_embedding], all_embeddings)[0]\n",
    "        \n",
    "        # Assign similarities back to the DataFrame\n",
    "        yoga_studios_with_embeddings['similarity'] = similarities\n",
    "        \n",
    "        # Exclude the reference yoga studio, sort by similarity, and select the top 5\n",
    "        similar_yoga_studios = yoga_studios_with_embeddings[yoga_studios_with_embeddings['business_id'] != reference_business_id].sort_values(by='similarity', ascending=False).head(5)\n",
    "        \n",
    "        # Display similar yoga studios\n",
    "        print(f\"Yoga studios similar to '{reference_yoga_studio_name}' in {reference_yoga_studio_state}:\")\n",
    "        print(similar_yoga_studios[['name', 'stars', 'categories', 'similarity']])\n",
    "    else:\n",
    "        print(f\"No embedding found for the reference yoga studio ID {reference_business_id}.\")\n",
    "else:\n",
    "    print(\"No yoga studio businesses with embeddings found.\")\n"
   ]
  },
  {
   "attachments": {},
   "cell_type": "markdown",
   "id": "163c5243",
   "metadata": {},
   "source": [
    "## QUERY 5"
   ]
  },
  {
   "attachments": {},
   "cell_type": "markdown",
   "id": "24cadd69-c1d5-4434-9f9f-36e83f78d38f",
   "metadata": {},
   "source": [
    "### List 5 Pet services similar to 'Indian Walk Veterinary Center' in PA"
   ]
  },
  {
   "cell_type": "code",
   "execution_count": 28,
   "id": "ef0e5c62",
   "metadata": {},
   "outputs": [
    {
     "name": "stdout",
     "output_type": "stream",
     "text": [
      "Reference Pet Store: Indian Walk Veterinary Center in PA\n",
      "Pet services similar to 'Indian Walk Veterinary Center' in PA:\n",
      "                                                name  stars  \\\n",
      "142                                         PetSmart    3.5   \n",
      "49                                     One Lucky Dog    4.0   \n",
      "108                                         PetSmart    3.0   \n",
      "98                                             Petco    2.5   \n",
      "79   VCA Valley Animal Hospital and Emergency Center    3.5   \n",
      "\n",
      "                                            categories  similarity  \n",
      "142  Pet Services, Pet Training, Pet Groomers, Pets...    0.543239  \n",
      "49        Pets, Pet Services, Pet Groomers, Pet Stores    0.509875  \n",
      "108  Pet Stores, Pet Services, Pets, Pet Training, ...    0.505138  \n",
      "98   Pet Groomers, Pet Services, Pet Stores, Pet Tr...    0.502290  \n",
      "79   Pet Groomers, Veterinarians, Pet Services, Eme...    0.492963  \n"
     ]
    }
   ],
   "source": [
    "import pandas as pd\n",
    "import numpy as np\n",
    "from sklearn.metrics.pairwise import cosine_similarity\n",
    "\n",
    "businesses_df['categories'] = businesses_df['categories'].astype(str)\n",
    "\n",
    "pet_services = businesses_df[\n",
    "    businesses_df['categories'].str.contains('Pet Services|Grooming|Daycare|Veterinary', case=False)\n",
    "]\n",
    "\n",
    "pet_services_with_embeddings = pet_services.merge(business_embeddings_df, on='business_id', how='inner')\n",
    "\n",
    "if not pet_services_with_embeddings.empty:\n",
    "    reference_pet_store = pet_services_with_embeddings.sort_values(by='stars', ascending=False).iloc[0]\n",
    "    reference_business_id = reference_pet_store['business_id']\n",
    "    reference_pet_store_name = reference_pet_store['name']\n",
    "    reference_pet_store_location = reference_pet_store['state']  # or city, depending on what's more relevant\n",
    "\n",
    "    print(f\"Reference Pet Store: {reference_pet_store_name} in {reference_pet_store_location}\")\n",
    "\n",
    "    # Ensure the reference business has an embedding\n",
    "    if reference_business_id in pet_services_with_embeddings['business_id'].values:\n",
    "        reference_embedding = pet_services_with_embeddings[pet_services_with_embeddings['business_id'] == reference_business_id]['embedding'].iloc[0]\n",
    "\n",
    "        # Compute cosine similarities\n",
    "        all_embeddings = np.stack(pet_services_with_embeddings['embedding'].values)\n",
    "        similarities = cosine_similarity([reference_embedding], all_embeddings)[0]\n",
    "\n",
    "        # Assign similarities back to the DataFrame\n",
    "        pet_services_with_embeddings['similarity'] = similarities\n",
    "\n",
    "        # Exclude the reference pet store, sort by similarity, and select the top similar services\n",
    "        similar_pet_services = pet_services_with_embeddings[pet_services_with_embeddings['business_id'] != reference_business_id].sort_values(by='similarity', ascending=False).head(5)\n",
    "\n",
    "        # Display similar pet services\n",
    "        print(f\"Pet services similar to '{reference_pet_store_name}' in {reference_pet_store_location}:\")\n",
    "        print(similar_pet_services[['name', 'stars', 'categories', 'similarity']])\n",
    "    else:\n",
    "        print(f\"No embedding found for the reference pet store ID {reference_business_id}.\")\n",
    "else:\n",
    "    print(\"No pet service businesses with embeddings found.\")\n"
   ]
  },
  {
   "cell_type": "code",
   "execution_count": null,
   "id": "e2c09533-269e-4c2a-9b0e-d2084b6c003b",
   "metadata": {},
   "outputs": [],
   "source": []
  }
 ],
 "metadata": {
  "kernelspec": {
   "display_name": "Python 3 (ipykernel)",
   "language": "python",
   "name": "python3"
  },
  "language_info": {
   "codemirror_mode": {
    "name": "ipython",
    "version": 3
   },
   "file_extension": ".py",
   "mimetype": "text/x-python",
   "name": "python",
   "nbconvert_exporter": "python",
   "pygments_lexer": "ipython3",
   "version": "3.11.7"
  }
 },
 "nbformat": 4,
 "nbformat_minor": 5
}
